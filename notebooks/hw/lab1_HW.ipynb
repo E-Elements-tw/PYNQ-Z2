{
 "cells": [
  {
   "cell_type": "code",
   "execution_count": 3,
   "metadata": {},
   "outputs": [],
   "source": [
    "from pynq import Overlay\n",
    "overlay = Overlay(\"/usr/local/lib/python3.6/dist-packages/E_Elements_labs/bitstreams/loop.bit\")"
   ]
  },
  {
   "cell_type": "code",
   "execution_count": 4,
   "metadata": {},
   "outputs": [],
   "source": [
    "overlay?"
   ]
  },
  {
   "cell_type": "code",
   "execution_count": 5,
   "metadata": {},
   "outputs": [],
   "source": [
    "loop=overlay.testloop_0"
   ]
  },
  {
   "cell_type": "code",
   "execution_count": 6,
   "metadata": {},
   "outputs": [
    {
     "name": "stdout",
     "output_type": "stream",
     "text": [
      "10000 loops, best of 3: 55.3 µs per loop\n",
      "49500000\n"
     ]
    }
   ],
   "source": [
    "def testloop(I):\n",
    "    loop.write(0x10,I)\n",
    "    return loop.read(0x18)\n",
    "\n",
    "I=100\n",
    "%timeit testloop(I)\n",
    "print(testloop(I))"
   ]
  },
  {
   "cell_type": "code",
   "execution_count": 7,
   "metadata": {},
   "outputs": [],
   "source": [
    "from E_Elements_labs import TestOverlay\n",
    "overlay = TestOverlay('/usr/local/lib/python3.6/dist-packages/E_Elements_labs/bitstreams/loop.bit')"
   ]
  },
  {
   "cell_type": "code",
   "execution_count": 8,
   "metadata": {},
   "outputs": [
    {
     "name": "stdout",
     "output_type": "stream",
     "text": [
      "49500000\n"
     ]
    }
   ],
   "source": [
    "print(overlay.loop(100))"
   ]
  },
  {
   "cell_type": "code",
   "execution_count": null,
   "metadata": {},
   "outputs": [],
   "source": []
  }
 ],
 "metadata": {
  "kernelspec": {
   "display_name": "Python 3",
   "language": "python",
   "name": "python3"
  },
  "language_info": {
   "codemirror_mode": {
    "name": "ipython",
    "version": 3
   },
   "file_extension": ".py",
   "mimetype": "text/x-python",
   "name": "python",
   "nbconvert_exporter": "python",
   "pygments_lexer": "ipython3",
   "version": "3.6.5"
  }
 },
 "nbformat": 4,
 "nbformat_minor": 2
}
