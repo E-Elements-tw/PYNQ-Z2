{
 "cells": [
  {
   "cell_type": "code",
   "execution_count": null,
   "metadata": {},
   "outputs": [],
   "source": [
    "def functionname( parameters ):\n",
    "    \"Function description\"\n",
    "    function_suite\n",
    "    return [expression]"
   ]
  },
  {
   "cell_type": "code",
   "execution_count": 1,
   "metadata": {},
   "outputs": [
    {
     "name": "stdout",
     "output_type": "stream",
     "text": [
      "我要調用用戶自定義函數!\n",
      "再次調用同一函數\n"
     ]
    }
   ],
   "source": [
    "def printme(test):\n",
    "    \"輸入任何傳入字串\"\n",
    "    print (test)\n",
    "    return\n",
    " \n",
    "#調用函數\n",
    "printme(\"我要調用用戶自定義函數!\");\n",
    "printme(\"再次調用同一函數\");"
   ]
  },
  {
   "cell_type": "code",
   "execution_count": 2,
   "metadata": {},
   "outputs": [
    {
     "name": "stdout",
     "output_type": "stream",
     "text": [
      "參數和 = None\n"
     ]
    }
   ],
   "source": [
    "def sum( arg1, arg2 ):\n",
    "    \"返回2個參數的和\"\n",
    "    total = arg1 + arg2\n",
    "    #return total\n",
    "\n",
    "#調用sum函數\n",
    "print(\"參數和 =\",sum(50,60))"
   ]
  },
  {
   "cell_type": "code",
   "execution_count": 3,
   "metadata": {},
   "outputs": [
    {
     "name": "stdout",
     "output_type": "stream",
     "text": [
      "參數和 = 110\n"
     ]
    }
   ],
   "source": [
    "def sum( arg1, arg2 ):\n",
    "    \"返回2個參數的和\"\n",
    "    total = arg1 + arg2\n",
    "    return total\n",
    " \n",
    "#調用sum函數\n",
    "print(\"參數和 =\",sum(50,60))"
   ]
  },
  {
   "cell_type": "code",
   "execution_count": 4,
   "metadata": {
    "scrolled": true
   },
   "outputs": [
    {
     "name": "stdout",
     "output_type": "stream",
     "text": [
      "0\n",
      "1\n",
      "2\n",
      "3\n",
      "4\n"
     ]
    }
   ],
   "source": [
    "for i in range(5):\n",
    "    print(i)"
   ]
  },
  {
   "cell_type": "code",
   "execution_count": 5,
   "metadata": {},
   "outputs": [
    {
     "name": "stdout",
     "output_type": "stream",
     "text": [
      "總和 = 10\n"
     ]
    }
   ],
   "source": [
    "out=0\n",
    "for i in range(5):\n",
    "    out += i\n",
    "print(\"總和 =\",out)"
   ]
  },
  {
   "cell_type": "code",
   "execution_count": 6,
   "metadata": {},
   "outputs": [
    {
     "name": "stdout",
     "output_type": "stream",
     "text": [
      "76000\n"
     ]
    }
   ],
   "source": [
    "i=0\n",
    "j=0\n",
    "k=0\n",
    "out=0\n",
    "I=20\n",
    "for i in range(I):\n",
    "    for j in range(I):\n",
    "        for k in range(I):\n",
    "            out += k-j*3+i*3\n",
    "print (out)"
   ]
  },
  {
   "cell_type": "code",
   "execution_count": 7,
   "metadata": {},
   "outputs": [
    {
     "name": "stdout",
     "output_type": "stream",
     "text": [
      "13.6 ms ± 3.13 µs per loop (mean ± std. dev. of 7 runs, 100 loops each)\n",
      "76000\n"
     ]
    }
   ],
   "source": [
    "def testloop(I):\n",
    "    i=0\n",
    "    j=0\n",
    "    k=0\n",
    "    out=0\n",
    "    for i in range(I):\n",
    "        for j in range(I):\n",
    "            for k in range(I):\n",
    "                out += k-j*3+i*3\n",
    "    return out\n",
    "\n",
    "I=20\n",
    "%timeit testloop(I)\n",
    "print(testloop(I))"
   ]
  },
  {
   "cell_type": "code",
   "execution_count": 8,
   "metadata": {},
   "outputs": [
    {
     "name": "stdout",
     "output_type": "stream",
     "text": [
      "1.69 s ± 49.2 ms per loop (mean ± std. dev. of 7 runs, 1 loop each)\n",
      "49500000\n"
     ]
    }
   ],
   "source": [
    "def testloop(I):\n",
    "    i=0\n",
    "    j=0\n",
    "    k=0\n",
    "    out=0\n",
    "    for i in range(I):\n",
    "        for j in range(I):\n",
    "            for k in range(I):\n",
    "                out += k-j*3+i*3\n",
    "    return out\n",
    "\n",
    "I=100\n",
    "%timeit testloop(I)\n",
    "print(testloop(I))"
   ]
  },
  {
   "cell_type": "code",
   "execution_count": null,
   "metadata": {},
   "outputs": [],
   "source": []
  }
 ],
 "metadata": {
  "kernelspec": {
   "display_name": "Python 3",
   "language": "python",
   "name": "python3"
  },
  "language_info": {
   "codemirror_mode": {
    "name": "ipython",
    "version": 3
   },
   "file_extension": ".py",
   "mimetype": "text/x-python",
   "name": "python",
   "nbconvert_exporter": "python",
   "pygments_lexer": "ipython3",
   "version": "3.6.0"
  }
 },
 "nbformat": 4,
 "nbformat_minor": 2
}
