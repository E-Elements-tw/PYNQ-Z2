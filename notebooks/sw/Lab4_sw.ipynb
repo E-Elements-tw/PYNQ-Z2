{
 "cells": [
  {
   "cell_type": "code",
   "execution_count": 1,
   "metadata": {},
   "outputs": [
    {
     "data": {
      "application/javascript": [
       "\n",
       "require(['notebook/js/codecell'], function(codecell) {\n",
       "  codecell.CodeCell.options_default.highlight_modes[\n",
       "      'magic_text/x-csrc'] = {'reg':[/^%%microblaze/]};\n",
       "  Jupyter.notebook.events.one('kernel_ready.Kernel', function(){\n",
       "      Jupyter.notebook.get_cells().map(function(cell){\n",
       "          if (cell.cell_type == 'code'){ cell.auto_highlight(); } }) ;\n",
       "  });\n",
       "});\n"
      ]
     },
     "metadata": {},
     "output_type": "display_data"
    },
    {
     "name": "stdout",
     "output_type": "stream",
     "text": [
      "Capture device is open: True\n",
      "Program Stopped\n"
     ]
    }
   ],
   "source": [
    "from pynq.overlays.base import BaseOverlay\n",
    "from pynq.lib.video import *\n",
    "from pynq import Overlay\n",
    "base = BaseOverlay(\"base.bit\")\n",
    "\n",
    "\n",
    "Mode = VideoMode(640,480,24)\n",
    "\n",
    "hdmi_out = base.video.hdmi_out\n",
    "\n",
    "hdmi_out.configure(Mode,PIXEL_BGR)\n",
    "hdmi_out.start()\n",
    "frame_in_w = 640\n",
    "frame_in_h = 480\n",
    "\n",
    "import cv2\n",
    "\n",
    "face_cascade = cv2.CascadeClassifier(\n",
    "    '/home/xilinx/jupyter_notebooks/base/video/data/'\n",
    "    'haarcascade_frontalface_default.xml')\n",
    "\n",
    "eye_cascade = cv2.CascadeClassifier(\n",
    "    '/home/xilinx/jupyter_notebooks/base/video/data/'\n",
    "    'haarcascade_eye.xml')\n",
    "\n",
    "videoIn = cv2.VideoCapture(0)\n",
    "videoIn.set(cv2.CAP_PROP_FRAME_WIDTH, frame_in_w);\n",
    "videoIn.set(cv2.CAP_PROP_FRAME_HEIGHT, frame_in_h);\n",
    "\n",
    "print(\"Capture device is open: \" + str(videoIn.isOpened()))\n",
    "\n",
    "outframe = hdmi_out.newframe()\n",
    "process_this_frame = True\n",
    "\n",
    "ret, frame_vga = videoIn.read()\n",
    " \n",
    "while True:\n",
    "    ret, frame_vga = videoIn.read()\n",
    "    \n",
    "    if (base.buttons[0].read()==1):\n",
    "        print(\"Program Stopped\")\n",
    "        break\n",
    "\n",
    "\n",
    "    if process_this_frame:\n",
    "        \n",
    "        np_frame = frame_vga\n",
    "        #將獲取的即時影像轉化為灰色 \n",
    "        gray = cv2.cvtColor(np_frame, cv2.COLOR_BGR2GRAY)\n",
    "         #檢測視訊中的人臉，並用vector儲存人臉的座標、大小（用矩形表示） \n",
    "        faces = face_cascade.detectMultiScale(gray, 1.3, 5)\n",
    "        #臉部檢測 \n",
    "        for (x,y,w,h) in faces:\n",
    "            cv2.rectangle(np_frame,(x,y),(x+w,y+h),(255,0,0),2)\n",
    "            roi_gray = gray[y:y+h, x:x+w]\n",
    "            roi_color = np_frame[y:y+h, x:x+w]\n",
    "            #檢測視訊中臉部的眼睛，並用vector儲存眼睛的座標、大小（用矩形表示） \n",
    "            eyes = eye_cascade.detectMultiScale(roi_gray)\n",
    "            ## 眼睛偵測:\n",
    "            for (ex,ey,ew,eh) in eyes:\n",
    "                cv2.rectangle(roi_color,(ex,ey),(ex+ew,ey+eh),(0,255,0),2)\n",
    "    \n",
    "   \n",
    "    outframe[0:480,0:640,:] = frame_vga[0:480,0:640,:]\n",
    "    hdmi_out.writeframe(outframe)\n",
    "    \n",
    "videoIn.release()\n",
    "hdmi_out.stop()\n",
    "del hdmi_out"
   ]
  },
  {
   "cell_type": "code",
   "execution_count": 6,
   "metadata": {
    "scrolled": true
   },
   "outputs": [
    {
     "name": "stdout",
     "output_type": "stream",
     "text": [
      "Capture device is open: True\n",
      "USB WEBCAM display frequency is 29.77672835025856\n"
     ]
    }
   ],
   "source": [
    "from pynq.overlays.base import BaseOverlay\n",
    "from pynq.lib.video import *\n",
    "from pynq import Overlay\n",
    "base = BaseOverlay(\"base.bit\")\n",
    "Mode = VideoMode(640,480,24)\n",
    "\n",
    "import cv2\n",
    "import time\n",
    "\n",
    "\n",
    "\n",
    "\n",
    "hdmi_out = base.video.hdmi_out\n",
    "\n",
    "hdmi_out.configure(Mode,PIXEL_BGR)\n",
    "hdmi_out.start()\n",
    "frame_out_w = 1920\n",
    "frame_out_h = 1080\n",
    "# camera (input) configuration\n",
    "frame_in_w = 640\n",
    "frame_in_h = 480\n",
    "\n",
    "grayscale = np.ndarray(shape=(frame_in_h,frame_in_w), dtype=np.uint8)\n",
    "\n",
    "\n",
    "\n",
    "\n",
    "videoIn = cv2.VideoCapture(0)\n",
    "videoIn.set(cv2.CAP_PROP_FRAME_WIDTH, frame_in_w);\n",
    "videoIn.set(cv2.CAP_PROP_FRAME_HEIGHT, frame_in_h);\n",
    "\n",
    "print(\"Capture device is open: \" + str(videoIn.isOpened()))\n",
    "\n",
    "iterations = 600\n",
    "process_this_frame = True\n",
    "\n",
    "ret, frame_vga = videoIn.read()\n",
    "\n",
    "while True:\n",
    "    start = time.time()\n",
    "    for i in range (iterations):\n",
    "        ret, frame_vga = videoIn.read()     \n",
    "        outframe = hdmi_out.newframe()\n",
    "        outframe[0:480,0:640,:] = frame_vga[0:480,0:640,:]\n",
    "        hdmi_out.writeframe(outframe)\n",
    "    end_time = time.time()\n",
    "    break\n",
    "print(\"USB WEBCAM display frequency is \" + str(iterations/(end_time-start))  )\n",
    "  ###  process_this_frame = not process_this_frame    \n",
    "videoIn.release()\n",
    "hdmi_out.stop()\n",
    "del hdmi_out"
   ]
  },
  {
   "cell_type": "code",
   "execution_count": 1,
   "metadata": {
    "scrolled": false
   },
   "outputs": [
    {
     "data": {
      "application/javascript": [
       "\n",
       "require(['notebook/js/codecell'], function(codecell) {\n",
       "  codecell.CodeCell.options_default.highlight_modes[\n",
       "      'magic_text/x-csrc'] = {'reg':[/^%%microblaze/]};\n",
       "  Jupyter.notebook.events.one('kernel_ready.Kernel', function(){\n",
       "      Jupyter.notebook.get_cells().map(function(cell){\n",
       "          if (cell.cell_type == 'code'){ cell.auto_highlight(); } }) ;\n",
       "  });\n",
       "});\n"
      ]
     },
     "metadata": {},
     "output_type": "display_data"
    },
    {
     "name": "stdout",
     "output_type": "stream",
     "text": [
      "Capture device is open: True\n",
      "face detect frequncy is 2.4966850188089023\n"
     ]
    }
   ],
   "source": [
    "from pynq.overlays.base import BaseOverlay\n",
    "from pynq.lib.video import *\n",
    "from pynq import Overlay\n",
    "base = BaseOverlay(\"base.bit\")\n",
    "Mode = VideoMode(640,480,24)\n",
    "\n",
    "hdmi_out = base.video.hdmi_out\n",
    "\n",
    "hdmi_out.configure(Mode,PIXEL_BGR)\n",
    "hdmi_out.start()\n",
    "# camera (input) configuration\n",
    "frame_in_w = 640\n",
    "frame_in_h = 480\n",
    "\n",
    "import cv2\n",
    "import time\n",
    "\n",
    "\n",
    "\n",
    "face_cascade = cv2.CascadeClassifier(\n",
    "    '/home/xilinx/jupyter_notebooks/base/video/data/'\n",
    "    'haarcascade_frontalface_default.xml')\n",
    "\n",
    "eye_cascade = cv2.CascadeClassifier(\n",
    "    '/home/xilinx/jupyter_notebooks/base/video/data/'\n",
    "    'haarcascade_eye.xml')\n",
    "\n",
    "\n",
    "videoIn = cv2.VideoCapture(0)\n",
    "videoIn.set(cv2.CAP_PROP_FRAME_WIDTH, frame_in_w);\n",
    "videoIn.set(cv2.CAP_PROP_FRAME_HEIGHT, frame_in_h);\n",
    "\n",
    "print(\"Capture device is open: \" + str(videoIn.isOpened()))\n",
    "\n",
    "\n",
    "process_this_frame = True\n",
    "iterations = 60\n",
    "ret, frame_vga = videoIn.read()\n",
    "while True:\n",
    "    start = time.time()\n",
    "        ###if process_this_frame:\n",
    "    for i in range (iterations):\n",
    "        ret, frame_vga = videoIn.read()\n",
    "\n",
    "        ##if (base.buttons[0].read()==1):\n",
    "        ##    print(\"Program Stopped\")\n",
    "        ##    break\n",
    "        np_frame = frame_vga\n",
    "\n",
    "        gray = cv2.cvtColor(np_frame, cv2.COLOR_BGR2GRAY)\n",
    "        faces = face_cascade.detectMultiScale(gray, 1.3, 5)\n",
    "        for (x,y,w,h) in faces:\n",
    "            cv2.rectangle(np_frame,(x,y),(x+w,y+h),(255,0,0),2)\n",
    "            roi_gray = gray[y:y+h, x:x+w]\n",
    "            roi_color = np_frame[y:y+h, x:x+w]\n",
    "        outframe = hdmi_out.newframe()\n",
    "        outframe[0:480,0:640,:] = frame_vga[0:480,0:640,:]\n",
    "        hdmi_out.writeframe(outframe)    \n",
    "    end_time = time.time()\n",
    "    break\n",
    "print(\"face detect frequncy is \" + str(iterations/(end_time-start))  )\n",
    "      ###  process_this_frame = not process_this_frame    \n",
    "videoIn.release()\n",
    "hdmi_out.stop()\n",
    "del hdmi_out"
   ]
  },
  {
   "cell_type": "code",
   "execution_count": 2,
   "metadata": {},
   "outputs": [
    {
     "ename": "NameError",
     "evalue": "name 'hdmi_out' is not defined",
     "output_type": "error",
     "traceback": [
      "\u001b[0;31m---------------------------------------------------------------------------\u001b[0m",
      "\u001b[0;31mNameError\u001b[0m                                 Traceback (most recent call last)",
      "\u001b[0;32m<ipython-input-2-635f8cc54fba>\u001b[0m in \u001b[0;36m<module>\u001b[0;34m()\u001b[0m\n\u001b[1;32m      1\u001b[0m \u001b[0mvideoIn\u001b[0m\u001b[0;34m.\u001b[0m\u001b[0mrelease\u001b[0m\u001b[0;34m(\u001b[0m\u001b[0;34m)\u001b[0m\u001b[0;34m\u001b[0m\u001b[0m\n\u001b[0;32m----> 2\u001b[0;31m \u001b[0mhdmi_out\u001b[0m\u001b[0;34m.\u001b[0m\u001b[0mstop\u001b[0m\u001b[0;34m(\u001b[0m\u001b[0;34m)\u001b[0m\u001b[0;34m\u001b[0m\u001b[0m\n\u001b[0m\u001b[1;32m      3\u001b[0m \u001b[0;32mdel\u001b[0m \u001b[0mhdmi_out\u001b[0m\u001b[0;34m\u001b[0m\u001b[0m\n",
      "\u001b[0;31mNameError\u001b[0m: name 'hdmi_out' is not defined"
     ]
    }
   ],
   "source": [
    "videoIn.release()\n",
    "hdmi_out.stop()\n",
    "del hdmi_out"
   ]
  },
  {
   "cell_type": "code",
   "execution_count": null,
   "metadata": {},
   "outputs": [],
   "source": []
  }
 ],
 "metadata": {
  "kernelspec": {
   "display_name": "Python 3",
   "language": "python",
   "name": "python3"
  },
  "language_info": {
   "codemirror_mode": {
    "name": "ipython",
    "version": 3
   },
   "file_extension": ".py",
   "mimetype": "text/x-python",
   "name": "python",
   "nbconvert_exporter": "python",
   "pygments_lexer": "ipython3",
   "version": "3.6.0"
  }
 },
 "nbformat": 4,
 "nbformat_minor": 2
}
